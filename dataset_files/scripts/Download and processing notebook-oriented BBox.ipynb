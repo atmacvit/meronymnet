{
 "cells": [
  {
   "cell_type": "code",
   "execution_count": 1,
   "metadata": {},
   "outputs": [
    {
     "name": "stderr",
     "output_type": "stream",
     "text": [
      "c:\\programdata\\miniconda3\\lib\\site-packages\\numpy\\_distributor_init.py:32: UserWarning: loaded more than 1 DLL from .libs:\n",
      "c:\\programdata\\miniconda3\\lib\\site-packages\\numpy\\.libs\\libopenblas.PYQHXLVVQ7VESDPUVUADXEVJOBGHJPAY.gfortran-win_amd64.dll\n",
      "c:\\programdata\\miniconda3\\lib\\site-packages\\numpy\\.libs\\libopenblas.WCDJNK7YVMPZQ2ME2ZZHJJRJ3JIKNDB7.gfortran-win_amd64.dll\n",
      "  stacklevel=1)\n"
     ]
    }
   ],
   "source": [
    "import numpy as np\n",
    "import json\n",
    "import matplotlib.pyplot as plt\n",
    "import requests \n",
    "import tqdm\n",
    "import tarfile\n",
    "from clint.textui import progress\n",
    "import os\n",
    "from pathlib import Path\n",
    "import pandas as pd\n",
    "import scipy.io\n",
    "import json\n",
    "import shutil\n",
    "import pickle"
   ]
  },
  {
   "cell_type": "code",
   "execution_count": 2,
   "metadata": {},
   "outputs": [],
   "source": [
    "import matplotlib.pyplot as plt\n",
    "import cv2"
   ]
  },
  {
   "cell_type": "code",
   "execution_count": 3,
   "metadata": {},
   "outputs": [],
   "source": [
    "def download_url(url, save_path, chunk_size=128):\n",
    "    r = requests.get(url, stream=True)\n",
    "    \n",
    "    with open(save_path, 'wb') as fd:\n",
    "        total_length = int(r.headers.get('content-length'))\n",
    "        \n",
    "        for chunk in progress.bar(r.iter_content(chunk_size=chunk_size),\n",
    "                                  expected_size=(total_length/1024) + 1):\n",
    "            fd.write(chunk)\n",
    "            fd.flush()\n",
    "                                  \n",
    "    return\n",
    "\n",
    "def extract_file(fname,path='.'):\n",
    "    if fname.endswith(\"tar.gz\"):\n",
    "        tar = tarfile.open(fname, \"r:gz\")\n",
    "        tar.extractall(path=path)\n",
    "        tar.close()\n",
    "    elif fname.endswith(\"tar\"):\n",
    "        tar = tarfile.open(fname, \"r:\")\n",
    "        tar.extractall(path=path)\n",
    "        tar.close()\n",
    "    \n",
    "    return\n"
   ]
  },
  {
   "cell_type": "code",
   "execution_count": 10,
   "metadata": {},
   "outputs": [],
   "source": [
    "# Download files\n",
    "\n",
    "img_url = \"http://host.robots.ox.ac.uk/pascal/VOC/voc2010/VOCtrainval_03-May-2010.tar\"\n",
    "annot_url = \"http://roozbehm.info/pascal-parts/trainval.tar.gz\"\n",
    "\n",
    "save_path_img = \"img_zip\"\n",
    "save_path_annot = \"annot_zip\"\n",
    "\n",
    "curr_path = os.getcwd()\n",
    "path = Path(curr_path)\n",
    "\n"
   ]
  },
  {
   "cell_type": "code",
   "execution_count": null,
   "metadata": {},
   "outputs": [],
   "source": [
    "save_loc = os.path.join(path.parent,'datasets','PASCAL-VOC',save_path_img)\n",
    "os.mkdir(save_loc)\n",
    "download_url(img_url,os.path.join(save_loc,'images.tar'))\n",
    "\n",
    "save_loc = os.path.join(path.parent,'datasets','PASCAL-VOC',save_path_annot)\n",
    "os.mkdir(save_loc)\n",
    "download_url(annot_url,os.path.join(save_loc,'annotations.tar.gz'))\n",
    "\n"
   ]
  },
  {
   "cell_type": "code",
   "execution_count": 14,
   "metadata": {},
   "outputs": [],
   "source": [
    "save_loc = os.path.join(path.parent,'datasets','PASCAL-VOC',save_path_annot)\n",
    "extract_file(os.path.join(save_loc,'annotations.tar.gz'),path = save_loc)"
   ]
  },
  {
   "cell_type": "code",
   "execution_count": 15,
   "metadata": {},
   "outputs": [],
   "source": [
    "save_loc = os.path.join(path.parent,'datasets','PASCAL-VOC',save_path_img)\n",
    "extract_file(os.path.join(save_loc+'images.tar'),path = save_loc)"
   ]
  },
  {
   "cell_type": "code",
   "execution_count": 7,
   "metadata": {
    "scrolled": true
   },
   "outputs": [],
   "source": [
    "# class_list = os.listdir(save_loc+'\\\\VOCdevkit\\\\VOC2010\\\\ImageSets\\\\Main')\n",
    "# class_list = [file.split('_')[0] for file in class_list]\n",
    "# class_list = list(filter(lambda x: ('val' not in x)and('train' not in x),\n",
    "#                          class_list))\n",
    "# class_set = set(class_list)\n",
    "class_set = set(['aeroplane','bicycle','bird','cat','cow','dog','horse','motorbike','person','sheep'])"
   ]
  },
  {
   "cell_type": "code",
   "execution_count": 12,
   "metadata": {
    "scrolled": true
   },
   "outputs": [],
   "source": [
    "anno_destination = os.path.join(path.parent,'datasets','PASCAL-VOC','xybb-objects')\n",
    "anno_source = os.path.join(path.parent,'datasets','PASCAL-VOC',\n",
    "                                        save_path_annot,\n",
    "                                        'Annotations_Part')\n",
    "img_source = os.path.join(path.parent,'datasets','PASCAL-VOC',\n",
    "                                       save_path_img,\n",
    "                                       'VOCdevkit','VOC2010','JPEGImages')\n",
    "\n",
    "save_loc = os.path.join(path.parent,'datasets','PASCAL-VOC'+save_path_img)\n",
    "for ob_class in class_set:\n",
    "                                       \n",
    "    new_dir = anno_destination+ob_class\n",
    "    if not os.path.exists(new_dir):\n",
    "        os.mkdir(new_dir)\n",
    "    \n",
    "    if not os.path.exists(new_dir+'\\\\bbox'):\n",
    "        os.mkdir(new_dir+'\\\\bbox')\n",
    "        \n",
    "    if not os.path.exists(new_dir+'\\\\mask'):\n",
    "        os.mkdir(new_dir+'\\\\mask')\n",
    "        \n",
    "    if not os.path.exists(new_dir+'\\\\rgb'):\n",
    "        os.mkdir(new_dir+'\\\\rgb')\n",
    "    \n",
    "    if not os.path.exists(new_dir+'\\\\numpy'):\n",
    "        os.mkdir(new_dir+'\\\\numpy')\n",
    "    \n",
    "#for ob_class in class_set:\n",
    "#    print(ob_class)\n",
    "    \n",
    "img_list = pd.read_csv(os.path.join(save_loc+'VOCdevkit','VOC2010','ImageSets','Main','train_trainval.txt'),\n",
    "                      header=None,index_col=None,sep='\\t')\n",
    "\n",
    "\n",
    "img_list = img_list[0].str.split(' ',expand=True)\n",
    "img_list.columns = ['img','flag','drop']\n",
    "img_list.drop(['drop'],axis=1,inplace=True)\n",
    "\n",
    "for image in img_list.sample(n=100).img:\n",
    "    mat = scipy.io.loadmat(anno_source+image+'.mat')\n",
    "    img_file = (img_source+image+'.jpg')\n",
    "    img_dest = os.path.join(path.parent,'datasets','PASCAL-VOC','scene',image+'.jpg')\n",
    "    \n",
    "    if not os.path.exists(img_dest):\n",
    "        shutil.move(img_file,img_dest)\n",
    "    label_list = []\n",
    "    annotation_dict = {}\n",
    "    item_idx = 0\n",
    "    for annotation in mat['anno'][0][0][1][0]:\n",
    "        annotation_dict = {}\n",
    "        label = annotation[0][0]\n",
    "        if label not in class_set:\n",
    "            continue\n",
    "\n",
    "        if os.path.exists(os.path.join(anno_destination,label,'bbox',image+'.json')):\n",
    "            \n",
    "            with open(os.path.join(anno_destination,label,'bbox',image+'.json')) as fp:\n",
    "                annotation_dict = json.load(fp)\n",
    "    \n",
    "            item_idx = max(map(int,annotation_dict.keys()))+1\n",
    "\n",
    "        annotation_dict[item_idx] = {}\n",
    "        annotation_dict[item_idx]['mask'] = annotation[2].tolist()\n",
    "        annotation_dict[item_idx]['bbox'] = np.append(np.min(np.where(annotation[2]==1),\n",
    "                                                                   axis=1),\n",
    "                                                   np.max(np.where(annotation[2]==1),\n",
    "                                                                   axis=1)).tolist()\n",
    "        annotation_dict[item_idx]['parts'] = {}\n",
    "        parts_dict = annotation_dict[item_idx]['parts'] \n",
    "\n",
    "        if (len(annotation[3])>0)and (len(annotation[3][0])>0):\n",
    "            for part in annotation[3][0]:\n",
    "\n",
    "                part_label = part[0][0]\n",
    "                parts_dict[part_label] = {}\n",
    "                parts_dict[part_label]['mask'] = part[1].tolist()\n",
    "                parts_dict[part_label]['bbox'] = np.append(np.min(np.where(part[1]==1),\n",
    "                                                                          axis=1),\n",
    "                                                       np.max(np.where(part[1]==1),\n",
    "                                                              axis=1)).tolist()\n",
    "\n",
    "        item_idx+=1\n",
    "\n",
    "\n",
    "\n",
    "        if len(annotation_dict.keys())>0:\n",
    "            with open(os.path.join(anno_destination,label,'bbox',image+'.json'), 'w') as fp:\n",
    "                json.dump(annotation_dict, fp)\n",
    "\n",
    "\n"
   ]
  },
  {
   "cell_type": "code",
   "execution_count": 13,
   "metadata": {},
   "outputs": [],
   "source": [
    "bird_labels = {'head':1, 'leye':2, 'reye':3, 'beak':4, 'torso':5, 'neck':6, 'lwing':7, 'rwing':8, 'lleg':9, 'lfoot':10, 'rleg':11, 'rfoot':12, 'tail':13}\n",
    "\n",
    "cat_labels = {'head':1, 'leye':2, 'reye':3, 'lear':4, 'rear':5, 'nose':6, 'torso':7, 'neck':8, 'lfleg':9, 'lfpa':10, 'rfleg':11, 'rfpa':12, 'lbleg':13, 'lbpa':14, 'rbleg':15, 'rbpa':16, 'tail':17}\n",
    "\n",
    "cow_labels = {'head':1, 'leye':2, 'reye':3, 'lear':4, 'rear':5, 'muzzle':6, 'lhorn':7, 'rhorn':8, 'torso':9, 'neck':10, 'lfuleg':11, 'lflleg':12, 'rfuleg':13, 'rflleg':14, 'lbuleg':15, 'lblleg':16, 'rbuleg':17, 'rblleg':18, 'tail':19}\n",
    "\n",
    "dog_labels = {'head':1, 'leye':2, 'reye':3, 'lear':4, 'rear':5, 'nose':6, 'torso':7, 'neck':8, 'lfleg':9, 'lfpa':10, 'rfleg':11, 'rfpa':12, 'lbleg':13, 'lbpa':14, 'rbleg':15, 'rbpa':16, 'tail':17, 'muzzle':18}\n",
    "\n",
    "horse_labels = {'head':1, 'leye':2, 'reye':3, 'lear':4, 'rear':5, 'muzzle':6, 'lfho':7, 'rfho':8, 'torso':9, 'neck':10, 'lfuleg':11, 'lflleg':12, 'rfuleg':13, 'rflleg':14, 'lbuleg':15, 'lblleg':16, 'rbuleg':17, 'rblleg':18, 'tail':19, 'lbho':20, 'rbho':21}\n",
    "9\n",
    "bottle_labels = {'cap':1, 'body':2}\n",
    "\n",
    "person_labels = {'head':1, 'leye':2,  'reye':3, 'lear':4, 'rear':5, 'lebrow':6, 'rebrow':7,  'nose':8,  'mouth':9,  'hair':10, 'torso':11, 'neck': 12, 'llarm': 13, 'luarm': 14, 'lhand': 15, 'rlarm':16, 'ruarm':17, 'rhand': 18, 'llleg': 19, 'luleg':20, 'lfoot':21, 'rlleg':22, 'ruleg':23, 'rfoot':24}\n",
    "\n",
    "bus_labels = { 'frontside':1, 'leftside':2, 'rightside':3, 'backside':4, 'roofside':5, 'leftmirror':6, 'rightmirror':7, 'fliplate':8, 'bliplate':9  }\n",
    "for ii in range(0,10):\n",
    "    bus_labels['door_{}'.format(ii+1)] = 10+ii\n",
    "for ii in range(0,10):\n",
    "    bus_labels['wheel_{}'.format(ii+1)] = 20+ii\n",
    "for ii in range(0,10):\n",
    "    bus_labels['headlight_{}'.format(ii+1)] = 30+ii\n",
    "for ii in range(0,20):\n",
    "    bus_labels['window_{}'.format(ii+1)] = 40+ii\n",
    "\n",
    "car_labels = { 'frontside':1, 'leftside':2, 'rightside':3, 'backside':4, 'roofside':5, 'leftmirror':6, 'rightmirror':7, 'fliplate':8, 'bliplate':9  }\n",
    "for ii in range(0,3):\n",
    "    car_labels['door_{}'.format(ii+1)] = 10+ii\n",
    "for ii in range(0,4):\n",
    "    car_labels['wheel_{}'.format(ii+1)] = 13+ii\n",
    "for ii in range(0,6):\n",
    "    car_labels['headlight_{}'.format(ii+1)] = 17+ii\n",
    "for ii in range(0,7):\n",
    "    car_labels['window_{}'.format(ii+1)] = 23+ii\n",
    "\n",
    "aeroplane_labels = {'body': 1, 'stern': 2, 'lwing': 3, 'rwing':4, 'tail':5}\n",
    "for ii in range(1, 10):\n",
    "    aeroplane_labels['engine_{}'.format(ii)] = 5+ii\n",
    "for ii in range(1, 10):\n",
    "    aeroplane_labels['wheel_{}'.format(ii)] = 14+ii\n",
    "\n",
    "motorbike_labels = {'fwheel': 1, 'bwheel': 2, 'handlebar': 3, 'saddle': 4}\n",
    "for ii in range(0,10):\n",
    "    motorbike_labels['headlight_{}'.format(ii+1)] = 5+ii\n",
    "motorbike_labels['body']=15\n",
    "\n",
    "bicycle_labels = {'fwheel': 1, 'bwheel': 2, 'saddle': 3, 'handlebar': 4, 'chainwheel': 5}\n",
    "for ii in range(0,10):\n",
    "    bicycle_labels['headlight_{}'.format(ii+1)] = 6+ii\n",
    "bicycle_labels['body']=16\n",
    "\n",
    "train_labels = {'head':1,'hfrontside':2,'hleftside':3,'hrightside':4,'hbackside':5,'hroofside':6}\n",
    "for ii in  range(0,10):\n",
    "    train_labels['headlight_{}'.format(ii+1)] = 7 + ii\n",
    "for ii in  range(0,10):\n",
    "    train_labels['coach_{}'.format(ii+1)] = 17 + ii\n",
    "for ii in  range(0,10):\n",
    "    train_labels['cfrontside_{}'.format(ii+1)] = 27 + ii\n",
    "for ii in  range(0,10):\n",
    "    train_labels['cleftside_{}'.format(ii+1)] = 37 + ii\n",
    "for ii in  range(0,10):\n",
    "    train_labels['crightside_{}'.format(ii+1)] = 47 + ii\n",
    "for ii in  range(0,10):\n",
    "    train_labels['cbackside_{}'.format(ii+1)] = 57 + ii\n",
    "for ii in  range(0,10):\n",
    "    train_labels['croofside_{}'.format(ii+1)] = 67 + ii\n",
    "\n",
    "sheep_labels = cow_labels\n",
    "\n",
    "part_labels = {'bird': bird_labels, 'cat': cat_labels, 'cow': cow_labels, 'dog': dog_labels, 'sheep': sheep_labels, 'horse':horse_labels, 'car':car_labels, 'bus':bus_labels, 'bicycle':bicycle_labels, 'motorbike':motorbike_labels, 'person':person_labels,'aeroplane':aeroplane_labels, 'train':train_labels}"
   ]
  },
  {
   "cell_type": "code",
   "execution_count": 14,
   "metadata": {},
   "outputs": [],
   "source": [
    "with open(os.path.join(path.parent,'datasets','PASCAL-VOC','part_label.json'), 'w') as fp:\n",
    "    json.dump(part_labels, fp)"
   ]
  },
  {
   "cell_type": "code",
   "execution_count": 112,
   "metadata": {},
   "outputs": [],
   "source": [
    "def crop_minAreaRect(img, rect):\n",
    "\n",
    "    # rotate img\n",
    "    angle = rect[2]\n",
    "    rows,cols = img.shape[0], img.shape[1]\n",
    "    M = cv2.getRotationMatrix2D((cols/2,rows/2),angle,1)\n",
    "    img_rot = cv2.warpAffine(img,M,(cols,rows))\n",
    "    \n",
    "    # rotate bounding box\n",
    "    rect0 = (rect[0], rect[1], 0.0) \n",
    "    box = cv2.boxPoints(rect0)\n",
    "    pts = np.int0(cv2.transform(np.array([box]), M))[0]    \n",
    "    pts[pts < 0] = 0\n",
    "\n",
    "    # crop\n",
    "    img_crop = img_rot[pts[1][1]:pts[0][1], \n",
    "                       pts[1][0]:pts[2][0]]\n",
    "\n",
    "    return img_crop"
   ]
  },
  {
   "cell_type": "code",
   "execution_count": 113,
   "metadata": {
    "scrolled": true
   },
   "outputs": [
    {
     "name": "stdout",
     "output_type": "stream",
     "text": [
      "[74, 398, 82, 407] 2008_005890.json cat lear\n",
      "[85, 395, 85, 395] 2008_005890.json cat leye\n"
     ]
    },
    {
     "name": "stderr",
     "output_type": "stream",
     "text": [
      "c:\\programdata\\miniconda3\\lib\\site-packages\\ipykernel_launcher.py:52: RuntimeWarning: invalid value encountered in long_scalars\n"
     ]
    },
    {
     "name": "stdout",
     "output_type": "stream",
     "text": [
      "[82, 388, 82, 388] 2008_005890.json cat reye\n",
      "[87, 389, 89, 391] 2008_005890.json cat nose\n",
      "[76, 392, 99, 422] 2008_005890.json cat neck\n",
      "[99, 450, 117, 489] 2008_005890.json cat tail\n",
      "[89, 186, 97, 195] 2008_006384.json cat lear\n",
      "[100, 187, 102, 190] 2008_006384.json cat leye\n",
      "[94, 176, 98, 180] 2008_006384.json cat reye\n",
      "[143, 159, 151, 173] 2008_006384.json cat lfpa\n",
      "[102, 86, 117, 108] 2008_006384.json cat rbleg\n",
      "[91, 28, 110, 80] 2008_006384.json cat tail\n",
      "[73, 39, 204, 146] 2008_006609.json cat head\n",
      "[175, 38, 186, 47] 2008_006609.json cat nose\n",
      "[99, 64, 362, 235] 2008_006609.json cat torso\n",
      "[288, 73, 362, 121] 2008_006609.json cat rfleg\n",
      "[211, 260, 217, 270] 2008_007842.json cat reye\n",
      "[231, 275, 236, 283] 2008_007842.json cat nose\n",
      "[95, 234, 112, 252] 2008_007842.json cat lbpa\n",
      "[262, 354, 281, 369] 2009_000303.json cat leye\n",
      "[199, 343, 224, 355] 2009_000303.json cat reye\n",
      "[239, 325, 257, 337] 2009_000303.json cat nose\n",
      "[144, 228, 155, 245] 2010_000001.json cat nose\n",
      "[272, 261, 301, 305] 2010_000001.json cat lfpa\n",
      "[277, 184, 310, 222] 2010_000001.json cat rfpa\n",
      "[244, 224, 272, 257] 2010_000001.json cat lbpa\n",
      "[0, 0, 247, 374] 2010_001125.json cat head\n",
      "[0, 33, 18, 82] 2010_001125.json cat rear\n",
      "[95, 140, 130, 199] 2010_001125.json cat reye\n",
      "[168, 0, 499, 279] 2010_001125.json cat torso\n",
      "[96, 264, 109, 280] 2008_006434.json horse reye\n",
      "[106, 115, 119, 139] 2009_001885.json horse reye\n",
      "[307, 110, 329, 148] 2009_001885.json horse lfuleg\n",
      "[310, 61, 332, 98] 2009_001885.json horse rfuleg\n",
      "[320, 160, 330, 171] 2009_001885.json horse lblleg\n",
      "[261, 158, 321, 171] 2009_001885.json horse lbuleg\n",
      "[251, 310, 281, 341] 2008_008462.json motorbike fwheel\n",
      "[254, 375, 283, 406] 2008_008462.json motorbike bwheel\n",
      "[170, 458, 301, 496] 2010_000995.json motorbike fwheel\n",
      "[182, 371, 200, 408] 2008_000271.json person mouth\n",
      "[103, 339, 225, 443] 2008_000271.json person hair\n",
      "[66, 154, 101, 181] 2008_000346.json person head\n",
      "[210, 176, 231, 228] 2008_000426.json person mouth\n",
      "[208, 162, 293, 322] 2008_000426.json person neck\n",
      "[155, 198, 180, 222] 2008_000936.json person nose\n",
      "[406, 138, 445, 197] 2008_000936.json person lfoot\n",
      "[113, 215, 129, 219] 2008_001009.json person lear\n",
      "[126, 144, 143, 152] 2008_001009.json person rear\n",
      "[100, 187, 103, 203] 2008_001009.json person leye\n",
      "[265, 155, 286, 191] 2008_001009.json person mouth\n",
      "[437, 78, 478, 147] 2008_001009.json person lhand\n",
      "[456, 68, 478, 123] 2008_001009.json person rhand\n",
      "[25, 106, 231, 270] 2008_001023.json person hair\n",
      "[229, 43, 373, 288] 2008_001023.json person torso\n",
      "[187, 188, 194, 192] 2008_001196.json person rhand\n",
      "[212, 174, 219, 180] 2008_001196.json person lfoot\n",
      "[191, 178, 203, 191] 2008_001196.json person ruleg\n",
      "[163, 213, 163, 213] 2008_001196.json person nose\n",
      "[177, 214, 185, 219] 2008_001196.json person llarm\n",
      "[183, 204, 201, 213] 2008_001196.json person luleg\n",
      "[88, 104, 94, 117] 2008_001607.json person leye\n",
      "[92, 82, 98, 93] 2008_001607.json person reye\n",
      "[86, 78, 93, 93] 2008_001607.json person rebrow\n",
      "[113, 98, 118, 113] 2008_001607.json person mouth\n",
      "[19, 65, 93, 144] 2008_001607.json person hair\n",
      "[30, 122, 129, 232] 2008_001607.json person torso\n",
      "[174, 232, 250, 271] 2008_001607.json person llleg\n",
      "[26, 288, 141, 415] 2008_001607.json person head\n",
      "[96, 338, 99, 350] 2008_001607.json person leye\n",
      "[94, 311, 99, 326] 2008_001607.json person reye\n",
      "[343, 486, 373, 498] 2008_001607.json person lfoot\n",
      "[200, 239, 240, 313] 2008_001622.json person mouth\n",
      "[0, 0, 286, 137] 2008_002003.json person torso\n",
      "[61, 1, 241, 88] 2008_002003.json person ruarm\n",
      "[296, 1, 374, 48] 2008_002003.json person rfoot\n",
      "[93, 232, 98, 235] 2008_002003.json dog leye\n",
      "[84, 227, 84, 227] 2008_002003.json dog reye\n",
      "[142, 181, 162, 196] 2008_002003.json dog lfpa\n",
      "[39, 73, 223, 237] 2008_003521.json dog head\n",
      "[39, 73, 223, 161] 2008_003521.json dog rear\n",
      "[77, 214, 99, 237] 2008_003521.json dog nose\n",
      "[112, 0, 270, 190] 2008_003521.json dog torso\n",
      "[267, 1, 303, 81] 2008_003521.json dog rbpa\n",
      "[12, 212, 116, 344] 2008_004015.json dog head\n",
      "[42, 268, 50, 283] 2008_004015.json dog leye\n",
      "[50, 211, 70, 231] 2008_004015.json dog nose\n",
      "[95, 197, 100, 201] 2008_004015.json dog reye\n",
      "[131, 196, 172, 246] 2008_004015.json dog neck\n",
      "[30, 50, 69, 85] 2008_005890.json dog rear\n",
      "[60, 93, 85, 130] 2008_005890.json dog muzzle\n",
      "[72, 120, 79, 131] 2008_005890.json dog nose\n",
      "[38, 1, 111, 89] 2008_005890.json dog rbleg\n",
      "[69, 64, 89, 90] 2008_005890.json dog rbpa\n",
      "[196, 102, 212, 129] 2008_007509.json dog lfpa\n",
      "[242, 17, 315, 96] 2008_007509.json dog rfleg\n",
      "[275, 56, 317, 99] 2008_007509.json dog rfpa\n",
      "[80, 401, 90, 413] 2008_008636.json dog nose\n",
      "[190, 97, 371, 160] 2008_008636.json dog rbleg\n",
      "[217, 39, 236, 70] 2009_000577.json dog head\n",
      "[223, 52, 224, 54] 2009_000577.json dog leye\n",
      "[224, 51, 288, 140] 2009_000577.json dog torso\n",
      "[289, 66, 316, 79] 2009_000577.json dog lfleg\n",
      "[190, 287, 191, 289] 2009_000577.json dog reye\n",
      "[171, 291, 205, 355] 2009_000577.json dog torso\n",
      "[75, 321, 86, 338] 2009_001885.json dog leye\n",
      "[116, 243, 136, 267] 2009_001885.json dog nose\n",
      "[93, 326, 332, 499] 2009_001885.json dog torso\n",
      "[179, 330, 191, 347] 2010_000574.json dog leye\n",
      "[187, 271, 197, 286] 2010_000574.json dog reye\n",
      "[219, 300, 243, 326] 2010_000574.json dog nose\n",
      "[291, 276, 333, 340] 2010_000574.json dog lfleg\n",
      "[249, 461, 263, 472] 2008_003688.json aeroplane wheel_1\n",
      "[261, 302, 278, 316] 2008_003688.json aeroplane wheel_1\n",
      "[170, 121, 207, 247] 2008_006564.json aeroplane body\n",
      "[130, 98, 231, 498] 2008_008044.json aeroplane body\n",
      "[158, 0, 175, 159] 2008_008044.json aeroplane rwing\n",
      "[219, 60, 243, 76] 2008_008044.json aeroplane wheel_1\n",
      "[221, 159, 246, 175] 2008_008044.json aeroplane wheel_2\n",
      "[236, 234, 257, 251] 2008_008044.json aeroplane wheel_3\n",
      "[303, 265, 305, 284] 2008_008471.json aeroplane rwing\n",
      "[300, 259, 304, 269] 2008_008471.json aeroplane stern\n",
      "[243, 412, 260, 429] 2009_000500.json aeroplane wheel_1\n",
      "[234, 299, 256, 320] 2009_000500.json aeroplane wheel_2\n",
      "[175, 23, 175, 23] 2009_000500.json aeroplane tail\n",
      "[130, 2, 171, 171] 2010_003716.json aeroplane rwing\n",
      "[145, 300, 178, 327] 2010_003716.json aeroplane engine_1\n",
      "[156, 369, 185, 399] 2010_003716.json aeroplane engine_2\n",
      "[161, 440, 189, 470] 2010_003716.json aeroplane engine_3\n",
      "[153, 86, 182, 116] 2010_003716.json aeroplane engine_5\n",
      "[159, 32, 187, 60] 2010_003716.json aeroplane engine_6\n",
      "[119, 164, 137, 176] 2010_005824.json cow lear\n",
      "[137, 139, 143, 150] 2010_005824.json cow leye\n",
      "[94, 217, 117, 234] 2010_005824.json cow lear\n",
      "[123, 195, 129, 208] 2010_005824.json cow leye\n",
      "[66, 451, 108, 475] 2010_005824.json cow tail\n",
      "[245, 251, 248, 259] 2010_005824.json cow leye\n",
      "[253, 487, 325, 499] 2010_005824.json cow lblleg\n",
      "[107, 475, 206, 496] 2010_005824.json cow tail\n",
      "[234, 236, 285, 286] 2008_002061.json sheep head\n",
      "[274, 239, 286, 252] 2008_002061.json sheep lear\n",
      "[268, 256, 271, 260] 2008_002061.json sheep leye\n",
      "[245, 259, 247, 263] 2008_002061.json sheep reye\n",
      "[171, 297, 189, 333] 2008_008714.json sheep head\n",
      "[176, 322, 180, 330] 2008_008714.json sheep lear\n",
      "[181, 312, 182, 314] 2008_008714.json sheep leye\n",
      "[181, 297, 187, 310] 2008_008714.json sheep muzzle\n",
      "[195, 402, 215, 408] 2008_008714.json sheep tail\n",
      "[214, 185, 218, 192] 2008_008714.json sheep rear\n",
      "[226, 194, 226, 194] 2008_008714.json sheep leye\n",
      "[188, 198, 231, 286] 2008_008714.json sheep torso\n",
      "[201, 199, 226, 211] 2008_008714.json sheep neck\n",
      "[228, 219, 243, 229] 2008_008714.json sheep lfuleg\n",
      "[242, 226, 260, 236] 2008_008714.json sheep rflleg\n",
      "[243, 285, 270, 290] 2008_008714.json sheep rblleg\n",
      "[176, 287, 180, 293] 2008_008714.json sheep rear\n",
      "[181, 268, 181, 268] 2008_008714.json sheep leye\n",
      "[182, 258, 187, 265] 2008_008714.json sheep muzzle\n",
      "[231, 346, 248, 366] 2008_008714.json sheep lbuleg\n",
      "[127, 351, 135, 359] 2010_000309.json sheep head\n",
      "[187, 117, 204, 143] 2010_000309.json sheep torso\n",
      "[197, 115, 208, 117] 2010_000309.json sheep tail\n",
      "[189, 173, 198, 183] 2010_000309.json sheep head\n",
      "[192, 181, 192, 181] 2010_000309.json sheep reye\n",
      "[190, 241, 193, 248] 2010_000309.json sheep rear\n",
      "[193, 225, 214, 238] 2010_000309.json sheep head\n",
      "[202, 236, 202, 236] 2010_000309.json sheep reye\n",
      "[72, 294, 77, 305] 2008_005774.json bird head\n",
      "[157, 230, 166, 243] 2008_008257.json bird reye\n",
      "[30, 383, 60, 425] 2009_000254.json bird head\n",
      "[266, 64, 291, 115] 2009_000254.json bird tail\n"
     ]
    },
    {
     "name": "stdout",
     "output_type": "stream",
     "text": [
      "[18, 121, 114, 276] 2009_001040.json bird head\n",
      "[90, 95, 172, 192] 2009_001422.json bird neck\n",
      "[443, 79, 461, 172] 2009_001422.json bird lfoot\n",
      "[101, 301, 107, 315] 2009_002056.json bird reye\n"
     ]
    }
   ],
   "source": [
    "# convert to numpy\n",
    "for ob_class in class_set:\n",
    "    \n",
    "    part_mapping = part_labels[ob_class]\n",
    "    \n",
    "    img_list = os.listdir(os.path.join(anno_destination,ob_class,'bbox'))\n",
    "    labels = [] #np.zeros([24,len(annotation_dict.keys())])\n",
    "    masks = []\n",
    "    bboxes = []\n",
    "    obboxes = []\n",
    "    ob_masks = []\n",
    "    max_labels = 24\n",
    "    \n",
    "    for file in img_list[:10]:\n",
    "        \n",
    "        with open(os.path.join(anno_destination,ob_class,'bbox',file)) as fp:\n",
    "            annotation_dict = json.load(fp)\n",
    "        img_dest = os.path.join(path.parent,'datasets','PASCAL-VOC','scene',file.split('.')[0]+'.jpg')\n",
    "        image_arr = cv2.imread(img_dest)\n",
    "\n",
    "        for ct, idx in enumerate(annotation_dict.keys()):\n",
    "            anno = annotation_dict[idx]\n",
    "            p_list = anno['parts'].keys()\n",
    "            label_arr = np.array([part_mapping[x] for x in p_list])\n",
    "            padding = max_labels-label_arr.shape[0]\n",
    "            label_arr = np.pad(label_arr,(0,padding),'constant',constant_values=(0))\n",
    "            labels.append(label_arr)\n",
    "            \n",
    "            bb_array = []\n",
    "            obb_array = []\n",
    "            mask_array = []\n",
    "            ob_mask_array = []\n",
    "            if len(p_list)>0: \n",
    "                for p_key in p_list:\n",
    "\n",
    "                    bb_array.append(anno['parts'][p_key]['bbox'])\n",
    "                    #bb_mask = bb_array[0][0]:bb_array[0][2],bb_array[0][1]:bb_array[0][3]\n",
    "                    part = image_arr[bb_array[0][0]:bb_array[0][2],bb_array[0][1]:bb_array[0][3]]\n",
    "                    mask = part*np.expand_dims(np.array(anno['parts'][p_key]['mask'])[bb_array[0][0]:bb_array[0][2],bb_array[0][1]:bb_array[0][3]],-1)\n",
    "                    mask = cv2.resize(mask.astype('uint8'),(64,64))\n",
    "                    mask_array.append(mask)\n",
    "                    contours,_ = cv2.findContours(np.uint8(np.matrix(anno['parts'][p_key]['mask'])),\n",
    "                               cv2.RETR_EXTERNAL , cv2.CHAIN_APPROX_NONE)\n",
    "                    rect = cv2.minAreaRect(contours[0])\n",
    "                    obbox = cv2.boxPoints(rect)\n",
    "                    obbox_cropped = crop_minAreaRect(image_arr, rect)\n",
    "                    if  min(list(obbox_cropped.shape))==0:\n",
    "                        print(anno['parts'][p_key]['bbox'],file,ob_class,p_key)\n",
    "                        x_min,y_min,x_max,y_max = anno['parts'][p_key]['bbox']  \n",
    "                        obbox_cropped = mask#np.zeros((64,64,3))\n",
    "                        d = np.dot(np.array([0,y_max-y_min]),\n",
    "                                   np.array([x_max-x_min,y_max-y_min]))/((x_min-x_max)**2+(y_min-y_max)**2)\n",
    "                        obb_array.append(list(np.append(anno['parts'][p_key]['bbox'],[d]))) \n",
    "                               \n",
    "                    else:\n",
    "                        obbox_cropped = cv2.resize(obbox_cropped.astype('uint8'),(64,64))\n",
    "                        d = np.dot(obbox[1]-obbox[0],obbox[2]-obbox[0])/np.sum((obbox[0]-obbox[2])**2) \n",
    "                        obb_array.append(list(np.append(obbox[[0,2],:].flatten(),[d])))   \n",
    "                    ob_mask_array.append(obbox_cropped)\n",
    "                                 \n",
    "                    \n",
    "                bb_array = np.pad(bb_array,((0,padding),(0,0)),'constant',constant_values=(0))\n",
    "                mask_array = np.pad(mask_array,((0,padding),(0,0),(0,0),(0,0)),'constant',constant_values=(0))\n",
    "                obb_array = np.pad(obb_array,((0,padding),(0,0)),'constant',constant_values=(0))\n",
    "                ob_mask_array = np.pad(ob_mask_array,((0,padding),(0,0),(0,0),(0,0)),'constant',constant_values=(0))\n",
    "                bboxes.append(bb_array)\n",
    "                masks.append(mask_array)\n",
    "                obboxes.append(obb_array)\n",
    "                ob_masks.append(ob_mask_array)\n",
    "                \n",
    "        \n",
    "    \n",
    "    with open(os.path.join(anno_destination,ob_class,'numpy',ob_class+'_part_separated_labels'), 'wb') as f:\n",
    "        pickle.dump(np.array(labels), f)\n",
    "\n",
    "    with open(os.path.join(anno_destination,ob_class,'numpy',ob_class+'_part_separated_bbx'), 'wb') as f:\n",
    "        pickle.dump(np.array(bboxes), f)\n",
    "    \n",
    "    with open(os.path.join(anno_destination,ob_class,'numpy',ob_class+'_part_separated_obbx'), 'wb') as f:\n",
    "        pickle.dump(np.array(obboxes), f)\n",
    "    \n",
    "    with open(os.path.join(anno_destination,ob_class,'numpy',ob_class+'_part_separated_ob_masks'), 'wb') as f:\n",
    "        pickle.dump(np.array(ob_masks), f)\n",
    "\n",
    "    with open(os.path.join(anno_destination,ob_class,'numpy',ob_class+'_part_separated_masks'), 'wb') as f:\n",
    "        pickle.dump(np.array(masks), f)\n",
    "\n",
    "                \n",
    "        \n",
    "    "
   ]
  },
  {
   "cell_type": "code",
   "execution_count": 116,
   "metadata": {},
   "outputs": [
    {
     "data": {
      "text/plain": [
       "array([186.953    , 117.35724  , 370.90198  , 150.77908  ,   0.7721017],\n",
       "      dtype=float32)"
      ]
     },
     "execution_count": 116,
     "metadata": {},
     "output_type": "execute_result"
    }
   ],
   "source": []
  },
  {
   "cell_type": "code",
   "execution_count": 68,
   "metadata": {},
   "outputs": [
    {
     "name": "stdout",
     "output_type": "stream",
     "text": [
      "[396.50003  78.50001] [407.50003  77.50001]\n"
     ]
    },
    {
     "data": {
      "text/plain": [
       "<matplotlib.collections.PathCollection at 0x11c7e0ea748>"
      ]
     },
     "execution_count": 68,
     "metadata": {},
     "output_type": "execute_result"
    },
    {
     "data": {
      "image/png": "[encoded data removed]",
      "text/plain": [
       "<Figure size 432x288 with 1 Axes>"
      ]
     },
     "metadata": {
      "needs_background": "light"
     },
     "output_type": "display_data"
    }
   ],
   "source": [
    "print(obbox[0],obbox[2])\n",
    "plt.scatter(obbox.T[0],obbox.T[1])"
   ]
  },
  {
   "cell_type": "code",
   "execution_count": 95,
   "metadata": {},
   "outputs": [
    {
     "data": {
      "text/plain": [
       "0.59016395"
      ]
     },
     "execution_count": 95,
     "metadata": {},
     "output_type": "execute_result"
    }
   ],
   "source": [
    "np.dot(obbox[1]-obbox[0],obbox[2]-obbox[0])/np.sum((obbox[0]-obbox[2])**2)"
   ]
  },
  {
   "cell_type": "code",
   "execution_count": 96,
   "metadata": {},
   "outputs": [
    {
     "data": {
      "text/plain": [
       "[74, 398, 82, 407]"
      ]
     },
     "execution_count": 96,
     "metadata": {},
     "output_type": "execute_result"
    }
   ],
   "source": [
    "anno['parts'][p_key]['bbox']"
   ]
  },
  {
   "cell_type": "code",
   "execution_count": 89,
   "metadata": {},
   "outputs": [
    {
     "data": {
      "text/plain": [
       "(array([ 6., -6.], dtype=float32), array([11., -1.], dtype=float32))"
      ]
     },
     "execution_count": 89,
     "metadata": {},
     "output_type": "execute_result"
    }
   ],
   "source": [
    "obbox[1]-obbox[0],obbox[2]-obbox[0],"
   ]
  },
  {
   "cell_type": "code",
   "execution_count": 74,
   "metadata": {},
   "outputs": [
    {
     "data": {
      "text/plain": [
       "11.045361"
      ]
     },
     "execution_count": 74,
     "metadata": {},
     "output_type": "execute_result"
    }
   ],
   "source": [
    "np.sqrt(np.sum((obbox[0]-obbox[2])**2))"
   ]
  },
  {
   "cell_type": "code",
   "execution_count": 75,
   "metadata": {},
   "outputs": [
    {
     "data": {
      "text/plain": [
       "array([-11.,   1.], dtype=float32)"
      ]
     },
     "execution_count": 75,
     "metadata": {},
     "output_type": "execute_result"
    }
   ],
   "source": [
    "obbox[0]-obbox[2]"
   ]
  },
  {
   "cell_type": "code",
   "execution_count": 82,
   "metadata": {},
   "outputs": [
    {
     "data": {
      "text/plain": [
       "11.045361"
      ]
     },
     "execution_count": 82,
     "metadata": {},
     "output_type": "execute_result"
    }
   ],
   "source": [
    "np.sqrt(np.sum((obbox[0]-obbox[2])**2))"
   ]
  }
 ],
 "metadata": {
  "kernelspec": {
   "display_name": "Python 3",
   "language": "python",
   "name": "python3"
  },
  "language_info": {
   "codemirror_mode": {
    "name": "ipython",
    "version": 3
   },
   "file_extension": ".py",
   "mimetype": "text/x-python",
   "name": "python",
   "nbconvert_exporter": "python",
   "pygments_lexer": "ipython3",
   "version": "3.7.4"
  }
 },
 "nbformat": 4,
 "nbformat_minor": 4
}
